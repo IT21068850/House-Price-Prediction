{
 "cells": [
  {
   "cell_type": "code",
   "execution_count": 8,
   "metadata": {},
   "outputs": [],
   "source": [
    "import pandas as pd\n",
    "import numpy as np\n",
    "\n",
    "from analyze_src.basic_data_inspection import DataInspector, DataTypesInspectionStrategy, SummaryStatisticsInspectionStrategy, DataInspectionStrategy\n",
    "\n",
    "#Set display options\n",
    "pd.set_option('display.max_columns',None)\n",
    "pd.set_option('display.max_rows',100)"
   ]
  },
  {
   "cell_type": "code",
   "execution_count": 9,
   "metadata": {},
   "outputs": [],
   "source": [
    "#Load the data \n",
    "# Assuming data is already extracted to the \"extracted_data\" file\n",
    "data_path = '../src/extracted_data/AmesHousing.csv'\n",
    "df = pd.read_csv(data_path)"
   ]
  },
  {
   "cell_type": "code",
   "execution_count": 13,
   "metadata": {},
   "outputs": [
    {
     "ename": "AttributeError",
     "evalue": "'DataInspector' object has no attribute 'execute_inspection'",
     "output_type": "error",
     "traceback": [
      "\u001b[1;31m---------------------------------------------------------------------------\u001b[0m",
      "\u001b[1;31mAttributeError\u001b[0m                            Traceback (most recent call last)",
      "Cell \u001b[1;32mIn[13], line 3\u001b[0m\n\u001b[0;32m      1\u001b[0m \u001b[38;5;66;03m#Basic Data Inspection\u001b[39;00m\n\u001b[0;32m      2\u001b[0m data_inspector \u001b[38;5;241m=\u001b[39m DataInspector(DataTypesInspectionStrategy())\n\u001b[1;32m----> 3\u001b[0m \u001b[43mdata_inspector\u001b[49m\u001b[38;5;241;43m.\u001b[39;49m\u001b[43mexecute_inspection\u001b[49m(df)\n",
      "\u001b[1;31mAttributeError\u001b[0m: 'DataInspector' object has no attribute 'execute_inspection'"
     ]
    }
   ],
   "source": [
    "#Basic Data Inspection\n",
    "data_inspector = DataInspector(DataTypesInspectionStrategy())\n",
    "data_inspector.execute_inspection(df)\n"
   ]
  }
 ],
 "metadata": {
  "kernelspec": {
   "display_name": "base",
   "language": "python",
   "name": "python3"
  },
  "language_info": {
   "codemirror_mode": {
    "name": "ipython",
    "version": 3
   },
   "file_extension": ".py",
   "mimetype": "text/x-python",
   "name": "python",
   "nbconvert_exporter": "python",
   "pygments_lexer": "ipython3",
   "version": "3.10.9"
  }
 },
 "nbformat": 4,
 "nbformat_minor": 2
}
